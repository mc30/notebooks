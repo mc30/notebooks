{
 "cells": [
  {
   "cell_type": "code",
   "execution_count": 1,
   "id": "07e0b543-1a2a-45e8-930f-89219046933f",
   "metadata": {},
   "outputs": [
    {
     "name": "stdout",
     "output_type": "stream",
     "text": [
      "Downloading the archive... Done!\n",
      "Extracting zipped files into the current directory... Done!\n"
     ]
    }
   ],
   "source": [
    "import numpy as np\n",
    "import matplotlib.pyplot as plt\n",
    "import xlrd # To open .xls files\n",
    "\n",
    "from io import BytesIO\n",
    "from zipfile import ZipFile\n",
    "import urllib.request\n",
    "\n",
    "print('Downloading the archive... ', end = '')\n",
    "url = urllib.request.urlopen(\"https://www.insee.fr/fr/statistiques/fichier/1893204/pop-sexe-age-quinquennal6817.zip\")\n",
    "print('Done!')\n",
    "\n",
    "print('Extracting zipped files into the current directory... ', end = '') \n",
    "with ZipFile(BytesIO(url.read())) as zip_archive:\n",
    "    for zipped_file in zip_archive.namelist():\n",
    "        zip_archive.extract(zipped_file)\n",
    "print('Done!')"
   ]
  },
  {
   "cell_type": "code",
   "execution_count": 2,
   "id": "415464c8-b04a-47c2-a87f-88832e3999d8",
   "metadata": {},
   "outputs": [
    {
     "name": "stdout",
     "output_type": "stream",
     "text": [
      "Opening the Excel file... Done!\n",
      "Reading the Excel file... Codes... Names... Population per group... Done!\n"
     ]
    }
   ],
   "source": [
    "print('Opening the Excel file... ', end = '')\n",
    "workbook = xlrd.open_workbook('pop-sexe-age-quinquennal6817.xls')\n",
    "worksheet = workbook['COM_2017']\n",
    "print('Done!')\n",
    "\n",
    "print('Reading the Excel file... ', end = '')\n",
    "\n",
    "print('Codes... ', end = '')\n",
    "codes = [str(worksheet[r][1].value)[0:2] + # Some DR codes have three digits, use only first two\n",
    "        str(worksheet[r][2].value)\n",
    "            for r in range(14, worksheet.nrows)]\n",
    "\n",
    "print('Names... ', end = '')\n",
    "names = [worksheet[r][5].value for r in range(14, worksheet.nrows)]\n",
    "\n",
    "print('Population per group... ', end = '')\n",
    "pop = np.array([[worksheet[r][c].value\n",
    "                    for c in range(6, worksheet.ncols)]\n",
    "                        for r in range(14, worksheet.nrows)])\n",
    "print('Done!')\n",
    "\n",
    "cond = np.array(pop[:, 6] != '') # Indices to remove non-existent communes (with empty cells)\n",
    "codes = np.array(codes)[cond]\n",
    "names = np.array(names)[cond]\n",
    "\n",
    "pop = pop[cond, :]\n",
    "pop = pop.astype(np.double) #  Every cell is double in Excel\n",
    "pop = pop.astype(np.int64) # Convert to int"
   ]
  },
  {
   "cell_type": "code",
   "execution_count": 3,
   "id": "339d7edf-9008-49f3-8426-ea9879fb7efd",
   "metadata": {},
   "outputs": [
    {
     "data": {
      "image/png": "[encoded data removed]",
      "text/plain": [
       "<Figure size 576x576 with 1 Axes>"
      ]
     },
     "metadata": {
      "needs_background": "light"
     },
     "output_type": "display_data"
    }
   ],
   "source": [
    "pop_per_age = pop.sum(axis = 0) # Sum over communes\n",
    "m = pop_per_age[0::2]\n",
    "f = pop_per_age[1::2]\n",
    "\n",
    "fig = plt.figure(figsize = (8, 8))\n",
    "\n",
    "plt.barh(np.arange(len(m)), -m, color = 'dodgerblue', label = 'M')\n",
    "plt.barh(np.arange(len(m)), f, color = 'salmon', label = 'F')\n",
    "\n",
    "plt.xlabel('Population')\n",
    "plt.ylabel('Age group')\n",
    "plt.title('Population pyramid of France in 2017')\n",
    "plt.legend(loc = 'upper right')\n",
    "plt.xticks([-2e6, -1e6, 0, 1e6, 2e6], ['2M', '1M', '0', '1M', '2M'])\n",
    "ylbl = [str(i * 5) + '-' + str(i * 5 + 4) for i in range(0, 20)]\n",
    "ylbl[19] = '95+'\n",
    "plt.yticks(np.arange(len(m)), ylbl);"
   ]
  }
 ],
 "metadata": {
  "kernelspec": {
   "display_name": "Python 3",
   "language": "python",
   "name": "python3"
  },
  "language_info": {
   "codemirror_mode": {
    "name": "ipython",
    "version": 3
   },
   "file_extension": ".py",
   "mimetype": "text/x-python",
   "name": "python",
   "nbconvert_exporter": "python",
   "pygments_lexer": "ipython3",
   "version": "3.8.8"
  }
 },
 "nbformat": 4,
 "nbformat_minor": 5
}
